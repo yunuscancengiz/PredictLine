{
 "cells": [
  {
   "cell_type": "code",
   "execution_count": 47,
   "metadata": {},
   "outputs": [],
   "source": [
    "import tensorflow as tf\n",
    "import os\n",
    "import pandas as pd\n",
    "import numpy as np\n",
    "import matplotlib.pyplot as plt\n"
   ]
  },
  {
   "cell_type": "code",
   "execution_count": 48,
   "metadata": {},
   "outputs": [
    {
     "data": {
      "text/html": [
       "<div>\n",
       "<style scoped>\n",
       "    .dataframe tbody tr th:only-of-type {\n",
       "        vertical-align: middle;\n",
       "    }\n",
       "\n",
       "    .dataframe tbody tr th {\n",
       "        vertical-align: top;\n",
       "    }\n",
       "\n",
       "    .dataframe thead th {\n",
       "        text-align: right;\n",
       "    }\n",
       "</style>\n",
       "<table border=\"1\" class=\"dataframe\">\n",
       "  <thead>\n",
       "    <tr style=\"text-align: right;\">\n",
       "      <th></th>\n",
       "      <th>machine</th>\n",
       "      <th>time</th>\n",
       "      <th>axialAxisRmsVibration</th>\n",
       "      <th>radialAxisKurtosis</th>\n",
       "      <th>radialAxisPeakAcceleration</th>\n",
       "      <th>radialAxisRmsAcceleration</th>\n",
       "      <th>radialAxisRmsVibration</th>\n",
       "      <th>temperature</th>\n",
       "    </tr>\n",
       "  </thead>\n",
       "  <tbody>\n",
       "    <tr>\n",
       "      <th>0</th>\n",
       "      <td>Blower-Pump-1</td>\n",
       "      <td>2024-05-30T13:41:00Z</td>\n",
       "      <td>0.763</td>\n",
       "      <td>3.470</td>\n",
       "      <td>0.801</td>\n",
       "      <td>0.166</td>\n",
       "      <td>1.435</td>\n",
       "      <td>54.3</td>\n",
       "    </tr>\n",
       "    <tr>\n",
       "      <th>1</th>\n",
       "      <td>Blower-Pump-1</td>\n",
       "      <td>2024-05-30T13:42:00Z</td>\n",
       "      <td>0.821</td>\n",
       "      <td>3.526</td>\n",
       "      <td>0.737</td>\n",
       "      <td>0.166</td>\n",
       "      <td>1.305</td>\n",
       "      <td>54.2</td>\n",
       "    </tr>\n",
       "    <tr>\n",
       "      <th>2</th>\n",
       "      <td>Blower-Pump-1</td>\n",
       "      <td>2024-05-30T13:43:00Z</td>\n",
       "      <td>0.821</td>\n",
       "      <td>3.526</td>\n",
       "      <td>0.737</td>\n",
       "      <td>0.166</td>\n",
       "      <td>1.305</td>\n",
       "      <td>54.2</td>\n",
       "    </tr>\n",
       "    <tr>\n",
       "      <th>3</th>\n",
       "      <td>Blower-Pump-1</td>\n",
       "      <td>2024-05-30T13:44:00Z</td>\n",
       "      <td>0.821</td>\n",
       "      <td>3.526</td>\n",
       "      <td>0.737</td>\n",
       "      <td>0.166</td>\n",
       "      <td>1.305</td>\n",
       "      <td>54.2</td>\n",
       "    </tr>\n",
       "    <tr>\n",
       "      <th>4</th>\n",
       "      <td>Blower-Pump-1</td>\n",
       "      <td>2024-05-30T13:45:00Z</td>\n",
       "      <td>0.821</td>\n",
       "      <td>3.526</td>\n",
       "      <td>0.737</td>\n",
       "      <td>0.166</td>\n",
       "      <td>1.305</td>\n",
       "      <td>54.2</td>\n",
       "    </tr>\n",
       "  </tbody>\n",
       "</table>\n",
       "</div>"
      ],
      "text/plain": [
       "         machine                  time  axialAxisRmsVibration  \\\n",
       "0  Blower-Pump-1  2024-05-30T13:41:00Z                  0.763   \n",
       "1  Blower-Pump-1  2024-05-30T13:42:00Z                  0.821   \n",
       "2  Blower-Pump-1  2024-05-30T13:43:00Z                  0.821   \n",
       "3  Blower-Pump-1  2024-05-30T13:44:00Z                  0.821   \n",
       "4  Blower-Pump-1  2024-05-30T13:45:00Z                  0.821   \n",
       "\n",
       "   radialAxisKurtosis  radialAxisPeakAcceleration  radialAxisRmsAcceleration  \\\n",
       "0               3.470                       0.801                      0.166   \n",
       "1               3.526                       0.737                      0.166   \n",
       "2               3.526                       0.737                      0.166   \n",
       "3               3.526                       0.737                      0.166   \n",
       "4               3.526                       0.737                      0.166   \n",
       "\n",
       "   radialAxisRmsVibration  temperature  \n",
       "0                   1.435         54.3  \n",
       "1                   1.305         54.2  \n",
       "2                   1.305         54.2  \n",
       "3                   1.305         54.2  \n",
       "4                   1.305         54.2  "
      ]
     },
     "execution_count": 48,
     "metadata": {},
     "output_type": "execute_result"
    }
   ],
   "source": [
    "df = pd.read_csv('dataset/1724929644/dataset-90d.csv')\n",
    "df.head()"
   ]
  },
  {
   "cell_type": "code",
   "execution_count": 49,
   "metadata": {},
   "outputs": [
    {
     "data": {
      "text/plain": [
       "(129181, 8)"
      ]
     },
     "execution_count": 49,
     "metadata": {},
     "output_type": "execute_result"
    }
   ],
   "source": [
    "df.shape"
   ]
  },
  {
   "cell_type": "code",
   "execution_count": 50,
   "metadata": {},
   "outputs": [
    {
     "name": "stdout",
     "output_type": "stream",
     "text": [
      "<class 'pandas.core.frame.DataFrame'>\n",
      "RangeIndex: 129181 entries, 0 to 129180\n",
      "Data columns (total 8 columns):\n",
      " #   Column                      Non-Null Count   Dtype  \n",
      "---  ------                      --------------   -----  \n",
      " 0   machine                     129181 non-null  object \n",
      " 1   time                        129181 non-null  object \n",
      " 2   axialAxisRmsVibration       129181 non-null  float64\n",
      " 3   radialAxisKurtosis          129181 non-null  float64\n",
      " 4   radialAxisPeakAcceleration  129181 non-null  float64\n",
      " 5   radialAxisRmsAcceleration   129181 non-null  float64\n",
      " 6   radialAxisRmsVibration      129181 non-null  float64\n",
      " 7   temperature                 129181 non-null  float64\n",
      "dtypes: float64(6), object(2)\n",
      "memory usage: 7.9+ MB\n"
     ]
    }
   ],
   "source": [
    "df.info()"
   ]
  },
  {
   "cell_type": "code",
   "execution_count": 51,
   "metadata": {},
   "outputs": [],
   "source": [
    "df.index = pd.to_datetime(df['time'], format='%Y-%m-%dT%H:%M:%SZ')"
   ]
  },
  {
   "cell_type": "code",
   "execution_count": 52,
   "metadata": {},
   "outputs": [
    {
     "data": {
      "text/html": [
       "<div>\n",
       "<style scoped>\n",
       "    .dataframe tbody tr th:only-of-type {\n",
       "        vertical-align: middle;\n",
       "    }\n",
       "\n",
       "    .dataframe tbody tr th {\n",
       "        vertical-align: top;\n",
       "    }\n",
       "\n",
       "    .dataframe thead th {\n",
       "        text-align: right;\n",
       "    }\n",
       "</style>\n",
       "<table border=\"1\" class=\"dataframe\">\n",
       "  <thead>\n",
       "    <tr style=\"text-align: right;\">\n",
       "      <th></th>\n",
       "      <th>machine</th>\n",
       "      <th>time</th>\n",
       "      <th>axialAxisRmsVibration</th>\n",
       "      <th>radialAxisKurtosis</th>\n",
       "      <th>radialAxisPeakAcceleration</th>\n",
       "      <th>radialAxisRmsAcceleration</th>\n",
       "      <th>radialAxisRmsVibration</th>\n",
       "      <th>temperature</th>\n",
       "    </tr>\n",
       "    <tr>\n",
       "      <th>time</th>\n",
       "      <th></th>\n",
       "      <th></th>\n",
       "      <th></th>\n",
       "      <th></th>\n",
       "      <th></th>\n",
       "      <th></th>\n",
       "      <th></th>\n",
       "      <th></th>\n",
       "    </tr>\n",
       "  </thead>\n",
       "  <tbody>\n",
       "    <tr>\n",
       "      <th>2024-05-30 13:41:00</th>\n",
       "      <td>Blower-Pump-1</td>\n",
       "      <td>2024-05-30T13:41:00Z</td>\n",
       "      <td>0.763</td>\n",
       "      <td>3.470</td>\n",
       "      <td>0.801</td>\n",
       "      <td>0.166</td>\n",
       "      <td>1.435</td>\n",
       "      <td>54.3</td>\n",
       "    </tr>\n",
       "    <tr>\n",
       "      <th>2024-05-30 13:42:00</th>\n",
       "      <td>Blower-Pump-1</td>\n",
       "      <td>2024-05-30T13:42:00Z</td>\n",
       "      <td>0.821</td>\n",
       "      <td>3.526</td>\n",
       "      <td>0.737</td>\n",
       "      <td>0.166</td>\n",
       "      <td>1.305</td>\n",
       "      <td>54.2</td>\n",
       "    </tr>\n",
       "    <tr>\n",
       "      <th>2024-05-30 13:43:00</th>\n",
       "      <td>Blower-Pump-1</td>\n",
       "      <td>2024-05-30T13:43:00Z</td>\n",
       "      <td>0.821</td>\n",
       "      <td>3.526</td>\n",
       "      <td>0.737</td>\n",
       "      <td>0.166</td>\n",
       "      <td>1.305</td>\n",
       "      <td>54.2</td>\n",
       "    </tr>\n",
       "    <tr>\n",
       "      <th>2024-05-30 13:44:00</th>\n",
       "      <td>Blower-Pump-1</td>\n",
       "      <td>2024-05-30T13:44:00Z</td>\n",
       "      <td>0.821</td>\n",
       "      <td>3.526</td>\n",
       "      <td>0.737</td>\n",
       "      <td>0.166</td>\n",
       "      <td>1.305</td>\n",
       "      <td>54.2</td>\n",
       "    </tr>\n",
       "    <tr>\n",
       "      <th>2024-05-30 13:45:00</th>\n",
       "      <td>Blower-Pump-1</td>\n",
       "      <td>2024-05-30T13:45:00Z</td>\n",
       "      <td>0.821</td>\n",
       "      <td>3.526</td>\n",
       "      <td>0.737</td>\n",
       "      <td>0.166</td>\n",
       "      <td>1.305</td>\n",
       "      <td>54.2</td>\n",
       "    </tr>\n",
       "  </tbody>\n",
       "</table>\n",
       "</div>"
      ],
      "text/plain": [
       "                           machine                  time  \\\n",
       "time                                                       \n",
       "2024-05-30 13:41:00  Blower-Pump-1  2024-05-30T13:41:00Z   \n",
       "2024-05-30 13:42:00  Blower-Pump-1  2024-05-30T13:42:00Z   \n",
       "2024-05-30 13:43:00  Blower-Pump-1  2024-05-30T13:43:00Z   \n",
       "2024-05-30 13:44:00  Blower-Pump-1  2024-05-30T13:44:00Z   \n",
       "2024-05-30 13:45:00  Blower-Pump-1  2024-05-30T13:45:00Z   \n",
       "\n",
       "                     axialAxisRmsVibration  radialAxisKurtosis  \\\n",
       "time                                                             \n",
       "2024-05-30 13:41:00                  0.763               3.470   \n",
       "2024-05-30 13:42:00                  0.821               3.526   \n",
       "2024-05-30 13:43:00                  0.821               3.526   \n",
       "2024-05-30 13:44:00                  0.821               3.526   \n",
       "2024-05-30 13:45:00                  0.821               3.526   \n",
       "\n",
       "                     radialAxisPeakAcceleration  radialAxisRmsAcceleration  \\\n",
       "time                                                                         \n",
       "2024-05-30 13:41:00                       0.801                      0.166   \n",
       "2024-05-30 13:42:00                       0.737                      0.166   \n",
       "2024-05-30 13:43:00                       0.737                      0.166   \n",
       "2024-05-30 13:44:00                       0.737                      0.166   \n",
       "2024-05-30 13:45:00                       0.737                      0.166   \n",
       "\n",
       "                     radialAxisRmsVibration  temperature  \n",
       "time                                                      \n",
       "2024-05-30 13:41:00                   1.435         54.3  \n",
       "2024-05-30 13:42:00                   1.305         54.2  \n",
       "2024-05-30 13:43:00                   1.305         54.2  \n",
       "2024-05-30 13:44:00                   1.305         54.2  \n",
       "2024-05-30 13:45:00                   1.305         54.2  "
      ]
     },
     "execution_count": 52,
     "metadata": {},
     "output_type": "execute_result"
    }
   ],
   "source": [
    "df.head()"
   ]
  },
  {
   "cell_type": "code",
   "execution_count": 53,
   "metadata": {},
   "outputs": [
    {
     "data": {
      "text/html": [
       "<div>\n",
       "<style scoped>\n",
       "    .dataframe tbody tr th:only-of-type {\n",
       "        vertical-align: middle;\n",
       "    }\n",
       "\n",
       "    .dataframe tbody tr th {\n",
       "        vertical-align: top;\n",
       "    }\n",
       "\n",
       "    .dataframe thead th {\n",
       "        text-align: right;\n",
       "    }\n",
       "</style>\n",
       "<table border=\"1\" class=\"dataframe\">\n",
       "  <thead>\n",
       "    <tr style=\"text-align: right;\">\n",
       "      <th></th>\n",
       "      <th>machine</th>\n",
       "      <th>time</th>\n",
       "      <th>axialAxisRmsVibration</th>\n",
       "      <th>radialAxisKurtosis</th>\n",
       "      <th>radialAxisPeakAcceleration</th>\n",
       "      <th>radialAxisRmsAcceleration</th>\n",
       "      <th>radialAxisRmsVibration</th>\n",
       "      <th>temperature</th>\n",
       "    </tr>\n",
       "    <tr>\n",
       "      <th>time</th>\n",
       "      <th></th>\n",
       "      <th></th>\n",
       "      <th></th>\n",
       "      <th></th>\n",
       "      <th></th>\n",
       "      <th></th>\n",
       "      <th></th>\n",
       "      <th></th>\n",
       "    </tr>\n",
       "  </thead>\n",
       "  <tbody>\n",
       "    <tr>\n",
       "      <th>2024-08-28 11:42:00</th>\n",
       "      <td>Blower-Pump-1</td>\n",
       "      <td>2024-08-28T11:42:00Z</td>\n",
       "      <td>0.824</td>\n",
       "      <td>3.196</td>\n",
       "      <td>0.629</td>\n",
       "      <td>0.162</td>\n",
       "      <td>1.081</td>\n",
       "      <td>54.0</td>\n",
       "    </tr>\n",
       "    <tr>\n",
       "      <th>2024-08-28 11:43:00</th>\n",
       "      <td>Blower-Pump-1</td>\n",
       "      <td>2024-08-28T11:43:00Z</td>\n",
       "      <td>0.824</td>\n",
       "      <td>3.225</td>\n",
       "      <td>0.720</td>\n",
       "      <td>0.164</td>\n",
       "      <td>1.275</td>\n",
       "      <td>54.0</td>\n",
       "    </tr>\n",
       "    <tr>\n",
       "      <th>2024-08-28 11:44:00</th>\n",
       "      <td>Blower-Pump-1</td>\n",
       "      <td>2024-08-28T11:44:00Z</td>\n",
       "      <td>0.824</td>\n",
       "      <td>3.225</td>\n",
       "      <td>0.720</td>\n",
       "      <td>0.164</td>\n",
       "      <td>1.275</td>\n",
       "      <td>54.0</td>\n",
       "    </tr>\n",
       "    <tr>\n",
       "      <th>2024-08-28 11:45:00</th>\n",
       "      <td>Blower-Pump-1</td>\n",
       "      <td>2024-08-28T11:45:00Z</td>\n",
       "      <td>0.824</td>\n",
       "      <td>3.225</td>\n",
       "      <td>0.720</td>\n",
       "      <td>0.164</td>\n",
       "      <td>1.275</td>\n",
       "      <td>54.0</td>\n",
       "    </tr>\n",
       "    <tr>\n",
       "      <th>2024-08-28 11:46:00</th>\n",
       "      <td>Blower-Pump-1</td>\n",
       "      <td>2024-08-28T11:46:00Z</td>\n",
       "      <td>0.824</td>\n",
       "      <td>3.225</td>\n",
       "      <td>0.720</td>\n",
       "      <td>0.164</td>\n",
       "      <td>1.275</td>\n",
       "      <td>54.0</td>\n",
       "    </tr>\n",
       "  </tbody>\n",
       "</table>\n",
       "</div>"
      ],
      "text/plain": [
       "                           machine                  time  \\\n",
       "time                                                       \n",
       "2024-08-28 11:42:00  Blower-Pump-1  2024-08-28T11:42:00Z   \n",
       "2024-08-28 11:43:00  Blower-Pump-1  2024-08-28T11:43:00Z   \n",
       "2024-08-28 11:44:00  Blower-Pump-1  2024-08-28T11:44:00Z   \n",
       "2024-08-28 11:45:00  Blower-Pump-1  2024-08-28T11:45:00Z   \n",
       "2024-08-28 11:46:00  Blower-Pump-1  2024-08-28T11:46:00Z   \n",
       "\n",
       "                     axialAxisRmsVibration  radialAxisKurtosis  \\\n",
       "time                                                             \n",
       "2024-08-28 11:42:00                  0.824               3.196   \n",
       "2024-08-28 11:43:00                  0.824               3.225   \n",
       "2024-08-28 11:44:00                  0.824               3.225   \n",
       "2024-08-28 11:45:00                  0.824               3.225   \n",
       "2024-08-28 11:46:00                  0.824               3.225   \n",
       "\n",
       "                     radialAxisPeakAcceleration  radialAxisRmsAcceleration  \\\n",
       "time                                                                         \n",
       "2024-08-28 11:42:00                       0.629                      0.162   \n",
       "2024-08-28 11:43:00                       0.720                      0.164   \n",
       "2024-08-28 11:44:00                       0.720                      0.164   \n",
       "2024-08-28 11:45:00                       0.720                      0.164   \n",
       "2024-08-28 11:46:00                       0.720                      0.164   \n",
       "\n",
       "                     radialAxisRmsVibration  temperature  \n",
       "time                                                      \n",
       "2024-08-28 11:42:00                   1.081         54.0  \n",
       "2024-08-28 11:43:00                   1.275         54.0  \n",
       "2024-08-28 11:44:00                   1.275         54.0  \n",
       "2024-08-28 11:45:00                   1.275         54.0  \n",
       "2024-08-28 11:46:00                   1.275         54.0  "
      ]
     },
     "execution_count": 53,
     "metadata": {},
     "output_type": "execute_result"
    }
   ],
   "source": [
    "df.tail()"
   ]
  },
  {
   "cell_type": "code",
   "execution_count": 54,
   "metadata": {},
   "outputs": [],
   "source": [
    "df.drop(inplace=True, axis=1, columns=['time', 'machine'])\n"
   ]
  },
  {
   "cell_type": "code",
   "execution_count": 55,
   "metadata": {},
   "outputs": [
    {
     "data": {
      "text/html": [
       "<div>\n",
       "<style scoped>\n",
       "    .dataframe tbody tr th:only-of-type {\n",
       "        vertical-align: middle;\n",
       "    }\n",
       "\n",
       "    .dataframe tbody tr th {\n",
       "        vertical-align: top;\n",
       "    }\n",
       "\n",
       "    .dataframe thead th {\n",
       "        text-align: right;\n",
       "    }\n",
       "</style>\n",
       "<table border=\"1\" class=\"dataframe\">\n",
       "  <thead>\n",
       "    <tr style=\"text-align: right;\">\n",
       "      <th></th>\n",
       "      <th>axialAxisRmsVibration</th>\n",
       "      <th>radialAxisKurtosis</th>\n",
       "      <th>radialAxisPeakAcceleration</th>\n",
       "      <th>radialAxisRmsAcceleration</th>\n",
       "      <th>radialAxisRmsVibration</th>\n",
       "      <th>temperature</th>\n",
       "    </tr>\n",
       "    <tr>\n",
       "      <th>time</th>\n",
       "      <th></th>\n",
       "      <th></th>\n",
       "      <th></th>\n",
       "      <th></th>\n",
       "      <th></th>\n",
       "      <th></th>\n",
       "    </tr>\n",
       "  </thead>\n",
       "  <tbody>\n",
       "    <tr>\n",
       "      <th>2024-05-30 13:41:00</th>\n",
       "      <td>0.763</td>\n",
       "      <td>3.470</td>\n",
       "      <td>0.801</td>\n",
       "      <td>0.166</td>\n",
       "      <td>1.435</td>\n",
       "      <td>54.3</td>\n",
       "    </tr>\n",
       "    <tr>\n",
       "      <th>2024-05-30 13:42:00</th>\n",
       "      <td>0.821</td>\n",
       "      <td>3.526</td>\n",
       "      <td>0.737</td>\n",
       "      <td>0.166</td>\n",
       "      <td>1.305</td>\n",
       "      <td>54.2</td>\n",
       "    </tr>\n",
       "    <tr>\n",
       "      <th>2024-05-30 13:43:00</th>\n",
       "      <td>0.821</td>\n",
       "      <td>3.526</td>\n",
       "      <td>0.737</td>\n",
       "      <td>0.166</td>\n",
       "      <td>1.305</td>\n",
       "      <td>54.2</td>\n",
       "    </tr>\n",
       "    <tr>\n",
       "      <th>2024-05-30 13:44:00</th>\n",
       "      <td>0.821</td>\n",
       "      <td>3.526</td>\n",
       "      <td>0.737</td>\n",
       "      <td>0.166</td>\n",
       "      <td>1.305</td>\n",
       "      <td>54.2</td>\n",
       "    </tr>\n",
       "    <tr>\n",
       "      <th>2024-05-30 13:45:00</th>\n",
       "      <td>0.821</td>\n",
       "      <td>3.526</td>\n",
       "      <td>0.737</td>\n",
       "      <td>0.166</td>\n",
       "      <td>1.305</td>\n",
       "      <td>54.2</td>\n",
       "    </tr>\n",
       "  </tbody>\n",
       "</table>\n",
       "</div>"
      ],
      "text/plain": [
       "                     axialAxisRmsVibration  radialAxisKurtosis  \\\n",
       "time                                                             \n",
       "2024-05-30 13:41:00                  0.763               3.470   \n",
       "2024-05-30 13:42:00                  0.821               3.526   \n",
       "2024-05-30 13:43:00                  0.821               3.526   \n",
       "2024-05-30 13:44:00                  0.821               3.526   \n",
       "2024-05-30 13:45:00                  0.821               3.526   \n",
       "\n",
       "                     radialAxisPeakAcceleration  radialAxisRmsAcceleration  \\\n",
       "time                                                                         \n",
       "2024-05-30 13:41:00                       0.801                      0.166   \n",
       "2024-05-30 13:42:00                       0.737                      0.166   \n",
       "2024-05-30 13:43:00                       0.737                      0.166   \n",
       "2024-05-30 13:44:00                       0.737                      0.166   \n",
       "2024-05-30 13:45:00                       0.737                      0.166   \n",
       "\n",
       "                     radialAxisRmsVibration  temperature  \n",
       "time                                                      \n",
       "2024-05-30 13:41:00                   1.435         54.3  \n",
       "2024-05-30 13:42:00                   1.305         54.2  \n",
       "2024-05-30 13:43:00                   1.305         54.2  \n",
       "2024-05-30 13:44:00                   1.305         54.2  \n",
       "2024-05-30 13:45:00                   1.305         54.2  "
      ]
     },
     "execution_count": 55,
     "metadata": {},
     "output_type": "execute_result"
    }
   ],
   "source": [
    "df.head()"
   ]
  },
  {
   "cell_type": "code",
   "execution_count": 56,
   "metadata": {},
   "outputs": [
    {
     "data": {
      "text/html": [
       "<div>\n",
       "<style scoped>\n",
       "    .dataframe tbody tr th:only-of-type {\n",
       "        vertical-align: middle;\n",
       "    }\n",
       "\n",
       "    .dataframe tbody tr th {\n",
       "        vertical-align: top;\n",
       "    }\n",
       "\n",
       "    .dataframe thead th {\n",
       "        text-align: right;\n",
       "    }\n",
       "</style>\n",
       "<table border=\"1\" class=\"dataframe\">\n",
       "  <thead>\n",
       "    <tr style=\"text-align: right;\">\n",
       "      <th></th>\n",
       "      <th>axialAxisRmsVibration</th>\n",
       "      <th>radialAxisKurtosis</th>\n",
       "      <th>radialAxisPeakAcceleration</th>\n",
       "      <th>radialAxisRmsAcceleration</th>\n",
       "      <th>radialAxisRmsVibration</th>\n",
       "      <th>temperature</th>\n",
       "    </tr>\n",
       "    <tr>\n",
       "      <th>time</th>\n",
       "      <th></th>\n",
       "      <th></th>\n",
       "      <th></th>\n",
       "      <th></th>\n",
       "      <th></th>\n",
       "      <th></th>\n",
       "    </tr>\n",
       "  </thead>\n",
       "  <tbody>\n",
       "    <tr>\n",
       "      <th>2024-05-30 13:45:00</th>\n",
       "      <td>0.821</td>\n",
       "      <td>3.526</td>\n",
       "      <td>0.737</td>\n",
       "      <td>0.166</td>\n",
       "      <td>1.305</td>\n",
       "      <td>54.2</td>\n",
       "    </tr>\n",
       "    <tr>\n",
       "      <th>2024-05-30 14:00:00</th>\n",
       "      <td>0.820</td>\n",
       "      <td>3.639</td>\n",
       "      <td>0.794</td>\n",
       "      <td>0.168</td>\n",
       "      <td>1.477</td>\n",
       "      <td>54.3</td>\n",
       "    </tr>\n",
       "    <tr>\n",
       "      <th>2024-05-30 14:15:00</th>\n",
       "      <td>0.788</td>\n",
       "      <td>3.447</td>\n",
       "      <td>0.874</td>\n",
       "      <td>0.162</td>\n",
       "      <td>1.189</td>\n",
       "      <td>54.2</td>\n",
       "    </tr>\n",
       "    <tr>\n",
       "      <th>2024-05-30 14:30:00</th>\n",
       "      <td>0.741</td>\n",
       "      <td>3.602</td>\n",
       "      <td>0.800</td>\n",
       "      <td>0.174</td>\n",
       "      <td>1.186</td>\n",
       "      <td>54.3</td>\n",
       "    </tr>\n",
       "    <tr>\n",
       "      <th>2024-05-30 14:45:00</th>\n",
       "      <td>0.783</td>\n",
       "      <td>3.430</td>\n",
       "      <td>0.827</td>\n",
       "      <td>0.164</td>\n",
       "      <td>1.193</td>\n",
       "      <td>54.3</td>\n",
       "    </tr>\n",
       "  </tbody>\n",
       "</table>\n",
       "</div>"
      ],
      "text/plain": [
       "                     axialAxisRmsVibration  radialAxisKurtosis  \\\n",
       "time                                                             \n",
       "2024-05-30 13:45:00                  0.821               3.526   \n",
       "2024-05-30 14:00:00                  0.820               3.639   \n",
       "2024-05-30 14:15:00                  0.788               3.447   \n",
       "2024-05-30 14:30:00                  0.741               3.602   \n",
       "2024-05-30 14:45:00                  0.783               3.430   \n",
       "\n",
       "                     radialAxisPeakAcceleration  radialAxisRmsAcceleration  \\\n",
       "time                                                                         \n",
       "2024-05-30 13:45:00                       0.737                      0.166   \n",
       "2024-05-30 14:00:00                       0.794                      0.168   \n",
       "2024-05-30 14:15:00                       0.874                      0.162   \n",
       "2024-05-30 14:30:00                       0.800                      0.174   \n",
       "2024-05-30 14:45:00                       0.827                      0.164   \n",
       "\n",
       "                     radialAxisRmsVibration  temperature  \n",
       "time                                                      \n",
       "2024-05-30 13:45:00                   1.305         54.2  \n",
       "2024-05-30 14:00:00                   1.477         54.3  \n",
       "2024-05-30 14:15:00                   1.189         54.2  \n",
       "2024-05-30 14:30:00                   1.186         54.3  \n",
       "2024-05-30 14:45:00                   1.193         54.3  "
      ]
     },
     "execution_count": 56,
     "metadata": {},
     "output_type": "execute_result"
    }
   ],
   "source": [
    "df_15m = df[4::15]\n",
    "df_15m.head()"
   ]
  },
  {
   "cell_type": "code",
   "execution_count": 57,
   "metadata": {},
   "outputs": [
    {
     "data": {
      "text/plain": [
       "(8612, 6)"
      ]
     },
     "execution_count": 57,
     "metadata": {},
     "output_type": "execute_result"
    }
   ],
   "source": [
    "df_15m.shape"
   ]
  },
  {
   "cell_type": "code",
   "execution_count": 58,
   "metadata": {},
   "outputs": [
    {
     "data": {
      "text/plain": [
       "((7892, 720, 6), (7892,))"
      ]
     },
     "execution_count": 58,
     "metadata": {},
     "output_type": "execute_result"
    }
   ],
   "source": [
    "def df_to_X_y(df:pd.DataFrame, target_index:int, window_size=720):\n",
    "    df = df.to_numpy()\n",
    "    X = []\n",
    "    y = []\n",
    "\n",
    "    for index in range(len(df) - window_size):\n",
    "        X.append([window for window in df[index:index + window_size]])\n",
    "        y.append(df[index + window_size][target_index])\n",
    "    return np.array(X), np.array(y)\n",
    "\n",
    "target_index = list(df_15m.columns).index('axialAxisRmsVibration')\n",
    "X, y = df_to_X_y(df=df_15m, target_index=target_index)\n",
    "X.shape, y.shape"
   ]
  },
  {
   "cell_type": "code",
   "execution_count": 59,
   "metadata": {},
   "outputs": [
    {
     "data": {
      "text/plain": [
       "((6172, 720, 6), (6172,), (500, 720, 6), (500,), (1220, 720, 6), (1220,))"
      ]
     },
     "execution_count": 59,
     "metadata": {},
     "output_type": "execute_result"
    }
   ],
   "source": [
    "X_train, y_train = X[:6172], y[:6172]\n",
    "X_val, y_val = X[6172:6672], y[6172:6672]\n",
    "X_test, y_test = X[6672:], y[6672:]\n",
    "X_train.shape, y_train.shape, X_val.shape, y_val.shape, X_test.shape, y_test.shape"
   ]
  },
  {
   "cell_type": "code",
   "execution_count": 60,
   "metadata": {},
   "outputs": [],
   "source": [
    "from tensorflow.keras.models import Sequential\n",
    "from tensorflow.keras.layers import LSTM, GRU, Dense, Dropout, InputLayer\n",
    "from tensorflow.keras.callbacks import ModelCheckpoint\n",
    "from tensorflow.keras.losses import MeanSquaredError\n",
    "from tensorflow.keras.metrics import RootMeanSquaredError\n",
    "from tensorflow.keras.optimizers import Adam\n",
    "from sklearn.metrics import mean_squared_error as mse\n",
    "from sklearn.preprocessing import StandardScaler"
   ]
  },
  {
   "cell_type": "code",
   "execution_count": 61,
   "metadata": {},
   "outputs": [],
   "source": [
    "# Standardizasyon\n",
    "\n",
    "feature_scaler = StandardScaler()\n",
    "\n",
    "# Train verisi üzerinde fit ve transform\n",
    "X_train_reshaped = X_train.reshape(-1, X_train.shape[2])  # 3D -> 2D (ör: [samples * timesteps, features])\n",
    "X_train_scaled = feature_scaler.fit_transform(X_train_reshaped)\n",
    "X_train_scaled = X_train_scaled.reshape(X_train.shape)   # 2D -> 3D geri dönüş\n",
    "\n",
    "# Validation ve Test verileri üzerinde sadece transform\n",
    "X_val_reshaped = X_val.reshape(-1, X_val.shape[2])\n",
    "X_val_scaled = feature_scaler.transform(X_val_reshaped)\n",
    "X_val_scaled = X_val_scaled.reshape(X_val.shape)\n",
    "\n",
    "X_test_reshaped = X_test.reshape(-1, X_test.shape[2])\n",
    "X_test_scaled = feature_scaler.transform(X_test_reshaped)\n",
    "X_test_scaled = X_test_scaled.reshape(X_test.shape)\n",
    "\n",
    "# Target değişkeni için scaler\n",
    "target_scaler = StandardScaler()\n",
    "\n",
    "# Train target üzerinde fit ve transform\n",
    "y_train_scaled = target_scaler.fit_transform(y_train.reshape(-1, 1))\n",
    "\n",
    "# Validation ve Test target üzerinde sadece transform\n",
    "y_val_scaled = target_scaler.transform(y_val.reshape(-1, 1))\n",
    "y_test_scaled = target_scaler.transform(y_test.reshape(-1, 1))"
   ]
  },
  {
   "cell_type": "code",
   "execution_count": 62,
   "metadata": {},
   "outputs": [
    {
     "data": {
      "text/plain": [
       "((6172, 720, 6), (6172, 1), (1220, 720, 6), (1220, 1), (500, 720, 6), (500, 1))"
      ]
     },
     "execution_count": 62,
     "metadata": {},
     "output_type": "execute_result"
    }
   ],
   "source": [
    "X_train_scaled.shape, y_train_scaled.shape, X_test_scaled.shape, y_test_scaled.shape, X_val_scaled.shape, y_val_scaled.shape"
   ]
  },
  {
   "cell_type": "code",
   "execution_count": 63,
   "metadata": {},
   "outputs": [
    {
     "name": "stderr",
     "output_type": "stream",
     "text": [
      "c:\\Users\\yunus\\AppData\\Local\\Programs\\Python\\Python311\\Lib\\site-packages\\keras\\src\\layers\\rnn\\rnn.py:204: UserWarning: Do not pass an `input_shape`/`input_dim` argument to a layer. When using Sequential models, prefer using an `Input(shape)` object as the first layer in the model instead.\n",
      "  super().__init__(**kwargs)\n"
     ]
    },
    {
     "data": {
      "text/html": [
       "<pre style=\"white-space:pre;overflow-x:auto;line-height:normal;font-family:Menlo,'DejaVu Sans Mono',consolas,'Courier New',monospace\"><span style=\"font-weight: bold\">Model: \"sequential_3\"</span>\n",
       "</pre>\n"
      ],
      "text/plain": [
       "\u001b[1mModel: \"sequential_3\"\u001b[0m\n"
      ]
     },
     "metadata": {},
     "output_type": "display_data"
    },
    {
     "data": {
      "text/html": [
       "<pre style=\"white-space:pre;overflow-x:auto;line-height:normal;font-family:Menlo,'DejaVu Sans Mono',consolas,'Courier New',monospace\">┏━━━━━━━━━━━━━━━━━━━━━━━━━━━━━━━━━┳━━━━━━━━━━━━━━━━━━━━━━━━┳━━━━━━━━━━━━━━━┓\n",
       "┃<span style=\"font-weight: bold\"> Layer (type)                    </span>┃<span style=\"font-weight: bold\"> Output Shape           </span>┃<span style=\"font-weight: bold\">       Param # </span>┃\n",
       "┡━━━━━━━━━━━━━━━━━━━━━━━━━━━━━━━━━╇━━━━━━━━━━━━━━━━━━━━━━━━╇━━━━━━━━━━━━━━━┩\n",
       "│ lstm_3 (<span style=\"color: #0087ff; text-decoration-color: #0087ff\">LSTM</span>)                   │ (<span style=\"color: #00d7ff; text-decoration-color: #00d7ff\">None</span>, <span style=\"color: #00af00; text-decoration-color: #00af00\">720</span>, <span style=\"color: #00af00; text-decoration-color: #00af00\">100</span>)       │        <span style=\"color: #00af00; text-decoration-color: #00af00\">42,800</span> │\n",
       "├─────────────────────────────────┼────────────────────────┼───────────────┤\n",
       "│ dropout_2 (<span style=\"color: #0087ff; text-decoration-color: #0087ff\">Dropout</span>)             │ (<span style=\"color: #00d7ff; text-decoration-color: #00d7ff\">None</span>, <span style=\"color: #00af00; text-decoration-color: #00af00\">720</span>, <span style=\"color: #00af00; text-decoration-color: #00af00\">100</span>)       │             <span style=\"color: #00af00; text-decoration-color: #00af00\">0</span> │\n",
       "├─────────────────────────────────┼────────────────────────┼───────────────┤\n",
       "│ lstm_4 (<span style=\"color: #0087ff; text-decoration-color: #0087ff\">LSTM</span>)                   │ (<span style=\"color: #00d7ff; text-decoration-color: #00d7ff\">None</span>, <span style=\"color: #00af00; text-decoration-color: #00af00\">50</span>)             │        <span style=\"color: #00af00; text-decoration-color: #00af00\">30,200</span> │\n",
       "├─────────────────────────────────┼────────────────────────┼───────────────┤\n",
       "│ dropout_3 (<span style=\"color: #0087ff; text-decoration-color: #0087ff\">Dropout</span>)             │ (<span style=\"color: #00d7ff; text-decoration-color: #00d7ff\">None</span>, <span style=\"color: #00af00; text-decoration-color: #00af00\">50</span>)             │             <span style=\"color: #00af00; text-decoration-color: #00af00\">0</span> │\n",
       "├─────────────────────────────────┼────────────────────────┼───────────────┤\n",
       "│ dense_4 (<span style=\"color: #0087ff; text-decoration-color: #0087ff\">Dense</span>)                 │ (<span style=\"color: #00d7ff; text-decoration-color: #00d7ff\">None</span>, <span style=\"color: #00af00; text-decoration-color: #00af00\">8</span>)              │           <span style=\"color: #00af00; text-decoration-color: #00af00\">408</span> │\n",
       "├─────────────────────────────────┼────────────────────────┼───────────────┤\n",
       "│ dense_5 (<span style=\"color: #0087ff; text-decoration-color: #0087ff\">Dense</span>)                 │ (<span style=\"color: #00d7ff; text-decoration-color: #00d7ff\">None</span>, <span style=\"color: #00af00; text-decoration-color: #00af00\">1</span>)              │             <span style=\"color: #00af00; text-decoration-color: #00af00\">9</span> │\n",
       "└─────────────────────────────────┴────────────────────────┴───────────────┘\n",
       "</pre>\n"
      ],
      "text/plain": [
       "┏━━━━━━━━━━━━━━━━━━━━━━━━━━━━━━━━━┳━━━━━━━━━━━━━━━━━━━━━━━━┳━━━━━━━━━━━━━━━┓\n",
       "┃\u001b[1m \u001b[0m\u001b[1mLayer (type)                   \u001b[0m\u001b[1m \u001b[0m┃\u001b[1m \u001b[0m\u001b[1mOutput Shape          \u001b[0m\u001b[1m \u001b[0m┃\u001b[1m \u001b[0m\u001b[1m      Param #\u001b[0m\u001b[1m \u001b[0m┃\n",
       "┡━━━━━━━━━━━━━━━━━━━━━━━━━━━━━━━━━╇━━━━━━━━━━━━━━━━━━━━━━━━╇━━━━━━━━━━━━━━━┩\n",
       "│ lstm_3 (\u001b[38;5;33mLSTM\u001b[0m)                   │ (\u001b[38;5;45mNone\u001b[0m, \u001b[38;5;34m720\u001b[0m, \u001b[38;5;34m100\u001b[0m)       │        \u001b[38;5;34m42,800\u001b[0m │\n",
       "├─────────────────────────────────┼────────────────────────┼───────────────┤\n",
       "│ dropout_2 (\u001b[38;5;33mDropout\u001b[0m)             │ (\u001b[38;5;45mNone\u001b[0m, \u001b[38;5;34m720\u001b[0m, \u001b[38;5;34m100\u001b[0m)       │             \u001b[38;5;34m0\u001b[0m │\n",
       "├─────────────────────────────────┼────────────────────────┼───────────────┤\n",
       "│ lstm_4 (\u001b[38;5;33mLSTM\u001b[0m)                   │ (\u001b[38;5;45mNone\u001b[0m, \u001b[38;5;34m50\u001b[0m)             │        \u001b[38;5;34m30,200\u001b[0m │\n",
       "├─────────────────────────────────┼────────────────────────┼───────────────┤\n",
       "│ dropout_3 (\u001b[38;5;33mDropout\u001b[0m)             │ (\u001b[38;5;45mNone\u001b[0m, \u001b[38;5;34m50\u001b[0m)             │             \u001b[38;5;34m0\u001b[0m │\n",
       "├─────────────────────────────────┼────────────────────────┼───────────────┤\n",
       "│ dense_4 (\u001b[38;5;33mDense\u001b[0m)                 │ (\u001b[38;5;45mNone\u001b[0m, \u001b[38;5;34m8\u001b[0m)              │           \u001b[38;5;34m408\u001b[0m │\n",
       "├─────────────────────────────────┼────────────────────────┼───────────────┤\n",
       "│ dense_5 (\u001b[38;5;33mDense\u001b[0m)                 │ (\u001b[38;5;45mNone\u001b[0m, \u001b[38;5;34m1\u001b[0m)              │             \u001b[38;5;34m9\u001b[0m │\n",
       "└─────────────────────────────────┴────────────────────────┴───────────────┘\n"
      ]
     },
     "metadata": {},
     "output_type": "display_data"
    },
    {
     "data": {
      "text/html": [
       "<pre style=\"white-space:pre;overflow-x:auto;line-height:normal;font-family:Menlo,'DejaVu Sans Mono',consolas,'Courier New',monospace\"><span style=\"font-weight: bold\"> Total params: </span><span style=\"color: #00af00; text-decoration-color: #00af00\">73,417</span> (286.79 KB)\n",
       "</pre>\n"
      ],
      "text/plain": [
       "\u001b[1m Total params: \u001b[0m\u001b[38;5;34m73,417\u001b[0m (286.79 KB)\n"
      ]
     },
     "metadata": {},
     "output_type": "display_data"
    },
    {
     "data": {
      "text/html": [
       "<pre style=\"white-space:pre;overflow-x:auto;line-height:normal;font-family:Menlo,'DejaVu Sans Mono',consolas,'Courier New',monospace\"><span style=\"font-weight: bold\"> Trainable params: </span><span style=\"color: #00af00; text-decoration-color: #00af00\">73,417</span> (286.79 KB)\n",
       "</pre>\n"
      ],
      "text/plain": [
       "\u001b[1m Trainable params: \u001b[0m\u001b[38;5;34m73,417\u001b[0m (286.79 KB)\n"
      ]
     },
     "metadata": {},
     "output_type": "display_data"
    },
    {
     "data": {
      "text/html": [
       "<pre style=\"white-space:pre;overflow-x:auto;line-height:normal;font-family:Menlo,'DejaVu Sans Mono',consolas,'Courier New',monospace\"><span style=\"font-weight: bold\"> Non-trainable params: </span><span style=\"color: #00af00; text-decoration-color: #00af00\">0</span> (0.00 B)\n",
       "</pre>\n"
      ],
      "text/plain": [
       "\u001b[1m Non-trainable params: \u001b[0m\u001b[38;5;34m0\u001b[0m (0.00 B)\n"
      ]
     },
     "metadata": {},
     "output_type": "display_data"
    }
   ],
   "source": [
    "model = Sequential()\n",
    "model.add(LSTM(100, return_sequences=True, input_shape=(720, 6)))\n",
    "model.add(Dropout(0.3))\n",
    "model.add(LSTM(50))\n",
    "model.add(Dropout(0.2))\n",
    "model.add(Dense(8, 'relu'))\n",
    "model.add(Dense(1, 'linear'))\n",
    "model.summary()"
   ]
  },
  {
   "cell_type": "code",
   "execution_count": 64,
   "metadata": {},
   "outputs": [
    {
     "name": "stdout",
     "output_type": "stream",
     "text": [
      "Epoch 1/5\n",
      "\u001b[1m193/193\u001b[0m \u001b[32m━━━━━━━━━━━━━━━━━━━━\u001b[0m\u001b[37m\u001b[0m \u001b[1m161s\u001b[0m 801ms/step - loss: 0.2816 - root_mean_squared_error: 0.5160 - val_loss: 0.2838 - val_root_mean_squared_error: 0.5327\n",
      "Epoch 2/5\n",
      "\u001b[1m193/193\u001b[0m \u001b[32m━━━━━━━━━━━━━━━━━━━━\u001b[0m\u001b[37m\u001b[0m \u001b[1m167s\u001b[0m 868ms/step - loss: 0.1243 - root_mean_squared_error: 0.3518 - val_loss: 0.2769 - val_root_mean_squared_error: 0.5262\n",
      "Epoch 3/5\n",
      "\u001b[1m193/193\u001b[0m \u001b[32m━━━━━━━━━━━━━━━━━━━━\u001b[0m\u001b[37m\u001b[0m \u001b[1m148s\u001b[0m 769ms/step - loss: 0.1278 - root_mean_squared_error: 0.3564 - val_loss: 0.2784 - val_root_mean_squared_error: 0.5276\n",
      "Epoch 4/5\n",
      "\u001b[1m193/193\u001b[0m \u001b[32m━━━━━━━━━━━━━━━━━━━━\u001b[0m\u001b[37m\u001b[0m \u001b[1m171s\u001b[0m 886ms/step - loss: 0.0947 - root_mean_squared_error: 0.3060 - val_loss: 0.2878 - val_root_mean_squared_error: 0.5365\n",
      "Epoch 5/5\n",
      "\u001b[1m193/193\u001b[0m \u001b[32m━━━━━━━━━━━━━━━━━━━━\u001b[0m\u001b[37m\u001b[0m \u001b[1m158s\u001b[0m 818ms/step - loss: 0.1187 - root_mean_squared_error: 0.3437 - val_loss: 0.2896 - val_root_mean_squared_error: 0.5382\n"
     ]
    },
    {
     "data": {
      "text/plain": [
       "<keras.src.callbacks.history.History at 0x2bcc4b533d0>"
      ]
     },
     "execution_count": 64,
     "metadata": {},
     "output_type": "execute_result"
    }
   ],
   "source": [
    "cp = ModelCheckpoint('best_model.keras', save_best_only=True)\n",
    "model.compile(loss=MeanSquaredError(), optimizer=Adam(learning_rate=0.0001), metrics=[RootMeanSquaredError()])\n",
    "model.fit(X_train_scaled, y_train_scaled, validation_data=(X_val_scaled, y_val_scaled), epochs=5, batch_size=32, callbacks=[cp])"
   ]
  },
  {
   "cell_type": "code",
   "execution_count": 70,
   "metadata": {},
   "outputs": [],
   "source": [
    "def plot_predictions(model, X, y, target_scaler, start=0, end=500):\n",
    "    # Modelin tahminlerini al\n",
    "    predictions_scaled = model.predict(X).flatten()\n",
    "    predictions_original = target_scaler.inverse_transform(predictions_scaled.reshape(-1, 1)).flatten()\n",
    "\n",
    "    # Gerçek değerleri orijinal ölçeğe dönüştür\n",
    "    y_original = target_scaler.inverse_transform(y.reshape(-1, 1)).flatten()\n",
    "\n",
    "    # Tahminler ve gerçek değerler için DataFrame oluştur\n",
    "    df = pd.DataFrame(data={'Predictions': predictions_original, 'Actuals': y_original})\n",
    "\n",
    "    # Plotlama\n",
    "    plt.figure(figsize=(12, 6))\n",
    "    plt.plot(df['Predictions'][start:end], label='Predictions', color='blue')\n",
    "    plt.plot(df['Actuals'][start:end], label='Actuals', color='orange')\n",
    "    plt.legend()\n",
    "    plt.title('Predictions vs Actuals')\n",
    "    plt.show()\n",
    "    return df, mse(y_original, predictions_original)"
   ]
  },
  {
   "cell_type": "code",
   "execution_count": 71,
   "metadata": {},
   "outputs": [
    {
     "name": "stdout",
     "output_type": "stream",
     "text": [
      "\u001b[1m39/39\u001b[0m \u001b[32m━━━━━━━━━━━━━━━━━━━━\u001b[0m\u001b[37m\u001b[0m \u001b[1m5s\u001b[0m 133ms/step\n"
     ]
    },
    {
     "data": {
      "image/png": "[encoded data removed]",
      "text/plain": [
       "<Figure size 1200x600 with 1 Axes>"
      ]
     },
     "metadata": {},
     "output_type": "display_data"
    },
    {
     "name": "stdout",
     "output_type": "stream",
     "text": [
      "Mean Squared Error: 0.04604436678910927\n"
     ]
    }
   ],
   "source": [
    "df, error = plot_predictions(model, X_test_scaled, y_test_scaled, target_scaler, start=800, end=1000)\n",
    "print(\"Mean Squared Error:\", error)"
   ]
  },
  {
   "cell_type": "code",
   "execution_count": null,
   "metadata": {},
   "outputs": [],
   "source": []
  },
  {
   "cell_type": "code",
   "execution_count": 1,
   "metadata": {},
   "outputs": [],
   "source": [
    "# FULL CODE"
   ]
  },
  {
   "cell_type": "code",
   "execution_count": 2,
   "metadata": {},
   "outputs": [],
   "source": [
    "import tensorflow as tf\n",
    "import os\n",
    "import pandas as pd\n",
    "import numpy as np\n",
    "import matplotlib.pyplot as plt\n",
    "from tensorflow.keras.models import Sequential\n",
    "from tensorflow.keras.layers import LSTM, GRU, Dense, Dropout, InputLayer\n",
    "from tensorflow.keras.callbacks import ModelCheckpoint\n",
    "from tensorflow.keras.losses import MeanSquaredError\n",
    "from tensorflow.keras.metrics import RootMeanSquaredError\n",
    "from tensorflow.keras.optimizers import Adam\n",
    "from sklearn.metrics import mean_squared_error as mse\n",
    "from sklearn.preprocessing import StandardScaler"
   ]
  },
  {
   "cell_type": "code",
   "execution_count": null,
   "metadata": {},
   "outputs": [],
   "source": [
    "df = pd.read_csv('dataset/1724929644/dataset-90d.csv')\n",
    "df.index = pd.to_datetime(df['time'], format='%Y-%m-%dT%H:%M:%SZ')\n",
    "df.drop(inplace=True, axis=1, columns=['time', 'machine'])\n",
    "df_15m = df[4::15]\n",
    "\n",
    "def df_to_X_y(df:pd.DataFrame, target_index:int, window_size=720):\n",
    "    df = df.to_numpy()\n",
    "    X = []\n",
    "    y = []\n",
    "\n",
    "    for index in range(len(df) - window_size):\n",
    "        X.append([window for window in df[index:index + window_size]])\n",
    "        y.append(df[index + window_size][target_index])\n",
    "    return np.array(X), np.array(y)\n",
    "\n",
    "target_index = list(df_15m.columns).index('axialAxisRmsVibration')\n",
    "X, y = df_to_X_y(df=df_15m, target_index=target_index)\n",
    "\n",
    "\n",
    "X_train, y_train = X[:6172], y[:6172]\n",
    "X_val, y_val = X[6172:6672], y[6172:6672]\n",
    "X_test, y_test = X[6672:], y[6672:]\n",
    "\n",
    "\n",
    "# Standardizasyon\n",
    "\n",
    "feature_scaler = StandardScaler()\n",
    "\n",
    "# Train verisi üzerinde fit ve transform\n",
    "X_train_reshaped = X_train.reshape(-1, X_train.shape[2])  # 3D -> 2D (ör: [samples * timesteps, features])\n",
    "X_train_scaled = feature_scaler.fit_transform(X_train_reshaped)\n",
    "X_train_scaled = X_train_scaled.reshape(X_train.shape)   # 2D -> 3D geri dönüş\n",
    "\n",
    "# Validation ve Test verileri üzerinde sadece transform\n",
    "X_val_reshaped = X_val.reshape(-1, X_val.shape[2])\n",
    "X_val_scaled = feature_scaler.transform(X_val_reshaped)\n",
    "X_val_scaled = X_val_scaled.reshape(X_val.shape)\n",
    "\n",
    "X_test_reshaped = X_test.reshape(-1, X_test.shape[2])\n",
    "X_test_scaled = feature_scaler.transform(X_test_reshaped)\n",
    "X_test_scaled = X_test_scaled.reshape(X_test.shape)\n",
    "\n",
    "# Target değişkeni için scaler\n",
    "target_scaler = StandardScaler()\n",
    "\n",
    "# Train target üzerinde fit ve transform\n",
    "y_train_scaled = target_scaler.fit_transform(y_train.reshape(-1, 1))\n",
    "\n",
    "# Validation ve Test target üzerinde sadece transform\n",
    "y_val_scaled = target_scaler.transform(y_val.reshape(-1, 1))\n",
    "y_test_scaled = target_scaler.transform(y_test.reshape(-1, 1))\n",
    "\n",
    "\n",
    "# MODEL\n",
    "model = Sequential()\n",
    "model.add(LSTM(100, return_sequences=True, input_shape=(720, 6)))\n",
    "model.add(Dropout(0.3))\n",
    "model.add(LSTM(50))\n",
    "model.add(Dropout(0.2))\n",
    "model.add(Dense(8, 'relu'))\n",
    "model.add(Dense(1, 'linear'))\n",
    "model.summary()\n",
    "\n",
    "cp = ModelCheckpoint('best_model.keras', save_best_only=True)\n",
    "model.compile(loss=MeanSquaredError(), optimizer=Adam(learning_rate=0.0001), metrics=[RootMeanSquaredError()])\n",
    "model.fit(X_train_scaled, y_train_scaled, validation_data=(X_val_scaled, y_val_scaled), epochs=5, batch_size=32, callbacks=[cp])\n",
    "\n",
    "def plot_predictions(model, X, y, target_scaler, start=0, end=500):\n",
    "    # Modelin tahminlerini al\n",
    "    predictions_scaled = model.predict(X).flatten()\n",
    "    predictions_original = target_scaler.inverse_transform(predictions_scaled.reshape(-1, 1)).flatten()\n",
    "\n",
    "    # Gerçek değerleri orijinal ölçeğe dönüştür\n",
    "    y_original = target_scaler.inverse_transform(y.reshape(-1, 1)).flatten()\n",
    "\n",
    "    # Tahminler ve gerçek değerler için DataFrame oluştur\n",
    "    df = pd.DataFrame(data={'Predictions': predictions_original, 'Actuals': y_original})\n",
    "\n",
    "    # Plotlama\n",
    "    plt.figure(figsize=(12, 6))\n",
    "    plt.plot(df['Predictions'][start:end], label='Predictions', color='blue')\n",
    "    plt.plot(df['Actuals'][start:end], label='Actuals', color='orange')\n",
    "    plt.legend()\n",
    "    plt.title('Predictions vs Actuals')\n",
    "    plt.show()\n",
    "    return df, mse(y_original, predictions_original)\n",
    "\n",
    "\n",
    "df, error = plot_predictions(model, X_test_scaled, y_test_scaled, target_scaler, start=800, end=1000)\n",
    "print(\"Mean Squared Error:\", error)"
   ]
  },
  {
   "cell_type": "code",
   "execution_count": 3,
   "metadata": {},
   "outputs": [],
   "source": [
    "# OOP model"
   ]
  },
  {
   "cell_type": "code",
   "execution_count": null,
   "metadata": {},
   "outputs": [],
   "source": [
    "import os\n",
    "import numpy as np\n",
    "import pandas as pd\n",
    "from sklearn.preprocessing import MinMaxScaler\n",
    "from sklearn.metrics import accuracy_score, f1_score, precision_score, recall_score\n",
    "from datetime import datetime\n",
    "from _logger import ProjectLogger\n",
    "import traceback\n",
    "import matplotlib.pyplot as plt\n",
    "from tensorflow.keras.models import Sequential\n",
    "from tensorflow.keras.layers import LSTM, GRU, Dense, Dropout, InputLayer\n",
    "from tensorflow.keras.callbacks import ModelCheckpoint\n",
    "from tensorflow.keras.callbacks import EarlyStopping\n",
    "from tensorflow.keras.losses import MeanSquaredError\n",
    "from tensorflow.keras.metrics import RootMeanSquaredError\n",
    "from tensorflow.keras.optimizers import Adam\n",
    "from sklearn.metrics import mean_squared_error as mse\n",
    "from sklearn.preprocessing import StandardScaler\n",
    "\n",
    "\n",
    "class RNNModel:\n",
    "    logger = ProjectLogger(class_name='RNNModel').create_logger()\n",
    "    thresholds = {\n",
    "        'axialAxisRmsVibration': 0.1,\n",
    "        'radialAxisKurtosis': 3,\n",
    "        'radialAxisPeakAcceleration': 0.05,\n",
    "        'radialAxisRmsAcceleration': 0.01\n",
    "    }\n",
    "\n",
    "    def __init__(self):\n",
    "        self.df = None\n",
    "        self.input_steps = None\n",
    "        self.output_steps = None\n",
    "        self.start_time = datetime.now().replace(hour=0, minute=0, second=0, microsecond=0)\n",
    "        self.input_columns = ['axialAxisRmsVibration', 'radialAxisKurtosis', 'radialAxisPeakAcceleration', 'radialAxisRmsAcceleration', 'radialAxisRmsVibration', 'temperature', 'is_running']\n",
    "        self.target_index = self.input_columns.index('axialAxisRmsVibration')\n",
    "\n",
    "\n",
    "    def main(self, df:pd.DataFrame, input_days:int, output_days:int, interval_minute:int):\n",
    "        self.df = df\n",
    "        self.df.index = pd.to_datetime(self.df['time'], format='%Y-%m-%dT%H:%M:%SZ')\n",
    "        self.df.drop(inplace=True, axis=1, columns=['time', 'machine'])\n",
    "        self.input_steps = int(((input_days - output_days) * 24 * (60 / interval_minute)) * 0.9)\n",
    "        self.output_steps = int(output_days * 24 * (60 / interval_minute))\n",
    "\n",
    "        X, y = self.prepare_data(df=self.df, )\n",
    "\n",
    "\n",
    "    def prepare_data(self, df:pd.DataFrame, window_size:int):\n",
    "        target_index = list(df.columns).index('axialAxisRmsVibration')\n",
    "        df = df.to_numpy()\n",
    "        X = []\n",
    "        y = []\n",
    "\n",
    "        for index in range(len(df) - window_size):\n",
    "            X.append([window for window in df[index:index + window_size]])\n",
    "            y.append(df[index + window_size][target_index])\n",
    "        return np.array(X), np.array(y)"
   ]
  }
 ],
 "metadata": {
  "kernelspec": {
   "display_name": "Python 3",
   "language": "python",
   "name": "python3"
  },
  "language_info": {
   "codemirror_mode": {
    "name": "ipython",
    "version": 3
   },
   "file_extension": ".py",
   "mimetype": "text/x-python",
   "name": "python",
   "nbconvert_exporter": "python",
   "pygments_lexer": "ipython3",
   "version": "3.11.2"
  }
 },
 "nbformat": 4,
 "nbformat_minor": 2
}
